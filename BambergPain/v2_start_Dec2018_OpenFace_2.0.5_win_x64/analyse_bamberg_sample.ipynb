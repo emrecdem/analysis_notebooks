{
 "cells": [
  {
   "cell_type": "markdown",
   "metadata": {},
   "source": [
    "# Analysis of Bamberg Pain sample (40 vids)\n",
    "B.L. de Vries - 3/12/2018"
   ]
  },
  {
   "cell_type": "code",
   "execution_count": 8,
   "metadata": {},
   "outputs": [
    {
     "name": "stdout",
     "output_type": "stream",
     "text": [
      "The autoreload extension is already loaded. To reload it, use:\n",
      "  %reload_ext autoreload\n"
     ]
    }
   ],
   "source": [
    "%load_ext autoreload\n",
    "%autoreload 2"
   ]
  },
  {
   "cell_type": "code",
   "execution_count": 9,
   "metadata": {},
   "outputs": [],
   "source": [
    "import os\n",
    "import sys\n",
    "import glob\n",
    "import time\n",
    "import pandas as pd\n",
    "import matplotlib.pyplot as plt\n",
    "\n",
    "import exploface\n",
    "import elanwriter"
   ]
  },
  {
   "cell_type": "code",
   "execution_count": 28,
   "metadata": {},
   "outputs": [],
   "source": [
    "verbose=False"
   ]
  },
  {
   "cell_type": "markdown",
   "metadata": {},
   "source": [
    "### Directories used in this notebook\n",
    "First I will make variables holding the different directories with input and output files and the executables of openface"
   ]
  },
  {
   "cell_type": "markdown",
   "metadata": {},
   "source": [
    "I use openface via a python wrapper script ```analyse_video``` that I made. This is just a very simple wrapper. I also define the openface executable here."
   ]
  },
  {
   "cell_type": "code",
   "execution_count": 11,
   "metadata": {},
   "outputs": [],
   "source": [
    "openface_runner_path = os.path.join(\"C:\\\\\",\"Users\",\"bldev\",\"Dropbox\",\"0_DATA_BEN\",\"WORK_ESCIENCE\",\"PROJECTS\",\"DEMENTIA\",\"TOOLS\",\"openface_runner\")\n",
    "sys.path.append(openface_runner_path)\n",
    "from process_video import analyse_video\n",
    "\n",
    "openface_version_dir = \"OpenFace_2.0.5_win_x64\"\n",
    "openface_exe = os.path.join(\"C:\\\\\",\"Users\",\"bldev\",\"Dropbox\",\"0_DATA_BEN\",\n",
    "                            \"WORK_ESCIENCE\",\"PROJECTS\",\"DEMENTIA\",\"TOOLS\",\"openface_runner\",\n",
    "                            openface_version_dir,\"FeatureExtraction.exe\")"
   ]
  },
  {
   "cell_type": "markdown",
   "metadata": {},
   "source": [
    "These are the input directories\n",
    "\n",
    "(Note: E: is an encrypted disk)"
   ]
  },
  {
   "cell_type": "code",
   "execution_count": 12,
   "metadata": {},
   "outputs": [],
   "source": [
    "video_dir = os.path.join(\"E:\\\\\",\"PROJECT_DATA\",\"DEMENTIA_2017\",\"BAMBERG\",\"videos\")\n",
    "FACS_dir = os.path.join(\"E:\\\\\",\"PROJECT_DATA\",\"DEMENTIA_2017\",\"BAMBERG\",\"FACS_encoding\",\"original\")"
   ]
  },
  {
   "cell_type": "markdown",
   "metadata": {},
   "source": [
    "And the output directories"
   ]
  },
  {
   "cell_type": "code",
   "execution_count": 13,
   "metadata": {},
   "outputs": [],
   "source": [
    "\n",
    "\n",
    "output_dir = os.path.join(\"E:\\\\\",\"PROJECT_DATA\",\"DEMENTIA_2017\",\"BAMBERG_ANALYSIS\",\n",
    "                          \"v2_start_Dec2018_OpenFace_2.0.5_win_x64\", \"openface_output\")\n",
    "FACS_conv_dir = os.path.join(\"E:\\\\\",\"PROJECT_DATA\",\"DEMENTIA_2017\",\"BAMBERG_ANALYSIS\",\n",
    "                          \"v2_start_Dec2018_OpenFace_2.0.5_win_x64\", \"FACS_timestamp_files\")\n",
    "elan_output_dir = os.path.join(\"E:\\\\\",\"PROJECT_DATA\",\"DEMENTIA_2017\",\"BAMBERG_ANALYSIS\",\n",
    "                          \"v2_start_Dec2018_OpenFace_2.0.5_win_x64\", \"elan_output\")"
   ]
  },
  {
   "cell_type": "markdown",
   "metadata": {},
   "source": [
    "Since we use external encrypted disks, lets check if we have access to the directories"
   ]
  },
  {
   "cell_type": "code",
   "execution_count": 16,
   "metadata": {},
   "outputs": [
    {
     "data": {
      "text/plain": [
       "(True, True, True, True, True, True)"
      ]
     },
     "execution_count": 16,
     "metadata": {},
     "output_type": "execute_result"
    }
   ],
   "source": [
    "os.path.isfile(openface_exe), os.path.isdir(video_dir), os.path.isdir(output_dir), os.path.isdir(elan_output_dir), os.path.isdir(FACS_dir), os.path.isdir(FACS_conv_dir)"
   ]
  },
  {
   "cell_type": "markdown",
   "metadata": {},
   "source": [
    "Now we collect all the video files for analysis"
   ]
  },
  {
   "cell_type": "code",
   "execution_count": 19,
   "metadata": {},
   "outputs": [
    {
     "data": {
      "text/plain": [
       "'Number of files: 40'"
      ]
     },
     "execution_count": 19,
     "metadata": {},
     "output_type": "execute_result"
    }
   ],
   "source": [
    "video_file_paths = glob.glob(os.path.join(video_dir, \"*\"))\n",
    "video_file_names = []\n",
    "\n",
    "for v in video_file_paths:\n",
    "    video_file_names.append(os.path.basename(v))\n",
    "\"Number of files: {}\".format(len(video_file_paths))"
   ]
  },
  {
   "cell_type": "markdown",
   "metadata": {},
   "source": [
    "### Running openface"
   ]
  },
  {
   "cell_type": "code",
   "execution_count": 21,
   "metadata": {},
   "outputs": [
    {
     "name": "stdout",
     "output_type": "stream",
     "text": [
      "Running videos from directory:  E:\\PROJECT_DATA\\DEMENTIA_2017\\BAMBERG\\videos\n"
     ]
    }
   ],
   "source": [
    "print(\"Running videos from directory: \", video_dir)\n",
    "for i, v in enumerate(video_file_names):\n",
    "    if verbose: print(\"- \"+str(i+1)+\"/\"+str(len(video_file_names))+\": \"+v)\n",
    "    start_time = time.time()\n",
    "    \n",
    "    openface_output_filename_no_ext = v.split(\".\")[0]\n",
    "    output_filename = openface_output_filename_no_ext+\".csv\"\n",
    "    \n",
    "    if not os.path.isfile(os.path.join(output_dir, output_filename)):\n",
    "        analyse_video(verbose=False, \n",
    "                  inputpath = video_dir,\n",
    "                  filename = v,\n",
    "                  outputpath = output_dir, \n",
    "                  openface_feat_exe = openface_exe, \n",
    "                  execute=True)\n",
    "        # META DATA OPENFACE AND EXPLOFACE\n",
    "        with open(os.path.join(output_dir, openface_output_filename_no_ext+\".version_log\"), \"w\") as text_file:\n",
    "            print(\"Datetime: {}\".format(time.strftime(\"%c\")), file=text_file)\n",
    "            print(\"Version exploface: {}\".format(exploface.__version__), file=text_file)\n",
    "            print(\"Version openface: {}\".format(openface_version_dir), file=text_file)\n",
    "    else:\n",
    "        if verbose: print(\"   Output exists, not running\")\n",
    "    if verbose: print(\"   Execution time: %s min\" % round((time.time() - start_time)/60, 2))\n",
    "    "
   ]
  },
  {
   "cell_type": "markdown",
   "metadata": {},
   "source": [
    "### Converting format of FACS encoders"
   ]
  },
  {
   "cell_type": "code",
   "execution_count": 24,
   "metadata": {},
   "outputs": [],
   "source": [
    "# FACS_dir \n",
    "# FACS_conv_dir\n",
    "\n",
    "# Get all the files with a glob\n",
    "xls_files_facs = glob.glob(FACS_dir+'/**/*'+\".xlsx\", recursive=True)\n",
    "# Get the numbers in the filenames that identify the video it belongs to\n",
    "xls_numbers = [os.path.basename(f).split(\"-\")[1].split(\"_\")[0][1:4] for f in xls_files_facs]\n",
    "# Example of how to read in the content of the xlsx files\n",
    "\n",
    "FACS_detections = {}\n",
    "for i,xls_file in enumerate(xls_files_facs):\n",
    "    if verbose: print(xls_file)\n",
    "    new_file_name = \"FACS_\"+xls_numbers[i]+\"_timestamp.csv\"\n",
    "\n",
    "    if os.path.isfile(os.path.join(FACS_conv_dir, new_file_name)):\n",
    "        if verbose: print(\"    On disk\")\n",
    "        df_human = pd.read_csv(os.path.join(FACS_conv_dir, new_file_name))\n",
    "    else:\n",
    "        if verbose: print(\"    Running\")\n",
    "        dataframe = pd.read_excel(xls_file,skipinitialspace=True )    \n",
    "        df_human = exploface.conversions.convert_bamberg_to_timestamp_format(dataframe)\n",
    "        df_human.to_csv(os.path.join(FACS_conv_dir, new_file_name))\n",
    "\n",
    "    df_human[\"feature\"] = df_human[\"feature\"]+\"_FACS\"\n",
    "        \n",
    "    FACS_detections[xls_numbers[i]] = df_human\n"
   ]
  },
  {
   "cell_type": "markdown",
   "metadata": {},
   "source": [
    "### Make masks for openface results to match FACS encoding\n",
    "The encoders only encoded 5 SEC after the pain marker is on."
   ]
  },
  {
   "cell_type": "code",
   "execution_count": 101,
   "metadata": {},
   "outputs": [],
   "source": [
    "openface_mask_dict = {}\n",
    "room =5 #s\n",
    "time_after_pain = 5 #s\n",
    "\n",
    "for i, v in enumerate(video_file_names):\n",
    "    nr = v.split(\"_\")[0]\n",
    "    video_output_filename_no_ext = v.split(\".\")[0]\n",
    "    openface_csv_file = video_output_filename_no_ext+\".csv\"\n",
    "    openface_csv_path = os.path.join(output_dir, openface_csv_file)\n",
    "    \n",
    "    openface_mask_file = video_output_filename_no_ext+\"_mask.csv\"\n",
    "    openface_mask_path = os.path.join(FACS_conv_dir, openface_mask_file)\n",
    "    \n",
    "    if verbose: print(nr)\n",
    "    if not os.path.isfile(openface_mask_path):\n",
    "        openface_time_series = exploface.get_feature_time_series(openface_csv_path)\n",
    "\n",
    "        facs_mask_times = FACS_detections[nr][FACS_detections[nr][\"feature\"]==\"pain_start_FACS\"]\n",
    "\n",
    "\n",
    "        mask = []\n",
    "        for j, row in openface_time_series.iterrows():\n",
    "            imask = 0\n",
    "            for k, row_facs in facs_mask_times.iterrows():\n",
    "                if  row[\"timestamp\"] < row_facs[\"end\"]+time_after_pain+room and \\\n",
    "                    row[\"timestamp\"] > row_facs[\"start\"]-room:\n",
    "                    imask = 1\n",
    "            mask.append(imask)\n",
    "\n",
    "        openface_mask = pd.DataFrame({\"timestamp\": openface_time_series[\"timestamp\"], \"mask\": mask})\n",
    "\n",
    "        openface_mask_dict[v.split(\"_\")[0]] = openface_mask\n",
    "        \n",
    "        openface_mask.to_csv(openface_mask_path)\n",
    "    \n",
    "    else:\n",
    "        openface_mask_dict[v.split(\"_\")[0]] = pd.read_csv(openface_mask_path)#openface_time_series\n",
    "\n"
   ]
  },
  {
   "cell_type": "code",
   "execution_count": 102,
   "metadata": {},
   "outputs": [
    {
     "data": {
      "text/plain": [
       "(0, 200)"
      ]
     },
     "execution_count": 102,
     "metadata": {},
     "output_type": "execute_result"
    },
    {
     "data": {
      "image/png": "[encoded data removed]",
      "text/plain": [
       "<matplotlib.figure.Figure at 0x2ae01700b38>"
      ]
     },
     "metadata": {},
     "output_type": "display_data"
    }
   ],
   "source": [
    "au = \"AU12_r\"\n",
    "v = video_file_names[0]\n",
    "\n",
    "\n",
    "\n",
    "video_output_filename_no_ext = v.split(\".\")[0]\n",
    "openface_csv_file = video_output_filename_no_ext+\".csv\"\n",
    "openface_csv_path = os.path.join(output_dir, openface_csv_file)        \n",
    "\n",
    "openface_time_series = exploface.get_feature_time_series(openface_csv_path)\n",
    "\n",
    "mask = openface_mask_dict[v.split(\"_\")[0]]\n",
    "\n",
    "#openface_time_series.loc[:, openface_time_series.columns != 'timestamp'] *mask[\"mask\"]\n",
    "for col in [c for c in openface_time_series.columns if c != \"timestamp\"]:\n",
    "    openface_time_series[col+\"_mask\"] = openface_time_series[col].where(mask[\"mask\"]>0, 0)\n",
    "    \n",
    "#openface_time_series_masked = \n",
    "#openface_time_series_masked[\"timestamp\"] = openface_time_series[\"timestamp\"]\n",
    "#openface_time_series[au] = openface_time_series[au]*mask[\"mask\"]\n",
    "#openface_time_series.loc[:, (\"AU06_r\", (mask[\"mask\"]==1))] =0\n",
    "\n",
    "plt.plot(openface_time_series[\"timestamp\"],openface_time_series[au], \"grey\")\n",
    "plt.plot(openface_time_series[\"timestamp\"],openface_time_series[au+\"_mask\"])\n",
    "#plt.plot(mask[\"timestamp\"], mask[\"mask\"])\n",
    "plt.xlim(0, 200)\n"
   ]
  },
  {
   "cell_type": "markdown",
   "metadata": {},
   "source": [
    "### Generating detections and writing Elan files"
   ]
  },
  {
   "cell_type": "code",
   "execution_count": 137,
   "metadata": {
    "scrolled": false
   },
   "outputs": [],
   "source": [
    "\n",
    "\n",
    "openface_detections_dict = {}\n",
    "openface_time_series_dict = {}\n",
    "detections_settings_dict = {}\n",
    "for i, v in enumerate(video_file_names):\n",
    "\n",
    "    #####################\n",
    "    # DIRECTORIES\n",
    "    #####################\n",
    "    video_output_filename_no_ext = v.split(\".\")[0]\n",
    "    openface_csv_file = video_output_filename_no_ext+\".csv\"\n",
    "    openface_csv_path = os.path.join(output_dir, openface_csv_file)\n",
    "    openface_avi_path = os.path.join(output_dir, video_output_filename_no_ext+\".avi\")\n",
    "    elan_output_path = os.path.join(elan_output_dir, video_output_filename_no_ext+\".eaf\")\n",
    "    detections_output_path = os.path.join(elan_output_dir, video_output_filename_no_ext+\"_detections.csv\")\n",
    "    detection_settings_output_path = os.path.join(elan_output_dir, video_output_filename_no_ext+\"_detection_settings.csv\")\n",
    "    \n",
    "    if verbose: \n",
    "        print(\"- \"+str(i+1)+\"/\"+str(len(video_file_names))+\": \"+os.path.basename(detections_output_path))\n",
    "        print(\"     files found: \", os.path.isfile(detections_output_path))\n",
    "    \n",
    "    if not os.path.isfile(detections_output_path):\n",
    "        #####################\n",
    "        # OPENFACE\n",
    "        #####################\n",
    "        openface_time_series = exploface.get_feature_time_series(openface_csv_path)\n",
    "\n",
    "        # Apply the masks to all columns (except the timestamp)\n",
    "        mask = openface_mask_dict[v.split(\"_\")[0]]\n",
    "        for col in [c for c in openface_time_series.columns if c != \"timestamp\"]:\n",
    "            openface_time_series[col+\"_mask\"] = openface_time_series[col].where(mask[\"mask\"]>0, 0)\n",
    "        \n",
    "        \n",
    "        columns = {\\\n",
    "            \"name\":[],\\\n",
    "            \"intensity_threshold\":[],\\\n",
    "            \"smooth_time_threshold\":[],\\\n",
    "            \"time_threshold\":[],\\\n",
    "            \"method\":[],\\\n",
    "            \"inverse_threshold\":[],\\\n",
    "        }\n",
    "\n",
    "        # Default thresholds\n",
    "        method=\"threshold\"\n",
    "        inverse_threshold=False\n",
    "        intensity_threshold=0.8\n",
    "        time_threshold=0.1\n",
    "        smooth_time_threshold = 0.1\n",
    "        uncertainty_threshold=0.9\n",
    "        \n",
    "        # Column selection list\n",
    "        col_select_strings = [\"AU\", \"_mask\"]\n",
    "\n",
    "        # Making column name and threshold settings dataframe\n",
    "        for j, c in enumerate(openface_time_series.columns):\n",
    "            if c == 'confidence':\n",
    "                columns[\"name\"].append( c )\n",
    "                columns[\"intensity_threshold\"].append(intensity_threshold)\n",
    "                columns[\"smooth_time_threshold\"].append(smooth_time_threshold)\n",
    "                columns[\"time_threshold\"].append(time_threshold)\n",
    "                columns[\"method\"].append(method)\n",
    "                columns[\"inverse_threshold\"].append(True)\n",
    "            if all([s in c for s in col_select_strings]):#\"AU\" in c and \"_r\" in c:\n",
    "                columns[\"name\"].append( c )\n",
    "                columns[\"intensity_threshold\"].append(intensity_threshold)\n",
    "                columns[\"smooth_time_threshold\"].append(smooth_time_threshold)\n",
    "                columns[\"time_threshold\"].append(time_threshold)\n",
    "                columns[\"method\"].append(method)\n",
    "                columns[\"inverse_threshold\"].append(inverse_threshold)\n",
    "\n",
    "        columns = pd.DataFrame(columns)\n",
    "\n",
    "        # Running exploface\n",
    "        openface_detections = exploface.get_detections(openface_time_series, only_columns=columns)\n",
    "\n",
    "\n",
    "        #####################\n",
    "        # OUTPUTTING\n",
    "        #####################\n",
    "        # And the merged dections\n",
    "        openface_detections.to_csv(detections_output_path) # Save without FACS\n",
    "        \n",
    "        # Writing out the settings\n",
    "        columns.to_csv(detection_settings_output_path)\n",
    "        \n",
    "       \n",
    "        # Now combine with the facs\n",
    "        df_facs = FACS_detections[v.split(\"_\")[0]]\n",
    "        detections = pd.concat([openface_detections, df_facs])\n",
    "        \n",
    "        # Save the elan file\n",
    "        elanwriter.write_elan_file(detections, \n",
    "                                   video_path=openface_avi_path, \n",
    "                                   output_path=elan_output_path,\n",
    "                                   feature_col_name = \"feature\")\n",
    "\n",
    "        # Make a dict with openface detections for further analysis\n",
    "        openface_detections_dict[v.split(\"_\")[0]] = openface_detections\n",
    "        openface_time_series_dict[v.split(\"_\")[0]] = openface_time_series\n",
    "        detections_settings_dict[v.split(\"_\")[0]] = columns\n",
    "\n",
    "    else:\n",
    "        if verbose: print(\"     Loading\")\n",
    "        openface_detections_dict[v.split(\"_\")[0]] = pd.read_csv(detections_output_path)#openface_detections\n",
    "        openface_time_series_dict[v.split(\"_\")[0]] = pd.read_csv(openface_csv_path)#openface_time_series\n",
    "        detections_settings_dict[v.split(\"_\")[0]] = pd.read_csv(detection_settings_output_path)#columns\n",
    "        \n"
   ]
  },
  {
   "cell_type": "markdown",
   "metadata": {},
   "source": [
    "# Do the statistics"
   ]
  },
  {
   "cell_type": "code",
   "execution_count": 194,
   "metadata": {
    "scrolled": false
   },
   "outputs": [
    {
     "name": "stdout",
     "output_type": "stream",
     "text": [
      "003...\n",
      "025...\n",
      "056...\n",
      "087...\n"
     ]
    }
   ],
   "source": [
    "room = 5\n",
    "stats = {}\n",
    "AUs = [i.split(\"_\")[0] for i in list(set(FACS_detections[\"003\"][\"feature\"])) if \"AU\" in i]\n",
    "AUs_of = [i.split(\"_\")[0] for i in list(set(openface_detections_dict[\"003\"][\"feature\"])) if \"AU\" in i]\n",
    "AUs = list(set(AUs) - (set(AUs_of)-set(AUs)))\n",
    "\n",
    "openface_det_method = \"_c\"\n",
    "\n",
    "for i, value in enumerate(AUs):\n",
    "    stats[value]={\"overlap\": [], \"total_facs\": [], \"total_openface\":[]}\n",
    "\n",
    "for i, v in enumerate(video_file_names):\n",
    "    nr=v.split(\"_\")[0]\n",
    "    df_openface = openface_detections_dict[nr]\n",
    "    df_FACS = FACS_detections[nr]\n",
    "\n",
    "    if i % 10==0: print(nr+\"...\")\n",
    "\n",
    "\n",
    "    for au in AUs:\n",
    "\n",
    "        nr_in_1_also_found_in_2, nr_in_2_also_found_in_1, total1, total2 = \\\n",
    "            exploface.analysis.compare_detections(df_openface, \n",
    "                                                  df_FACS, \n",
    "                                                  au+openface_det_method+\"_mask\", au+\"_FACS\", \n",
    "                                                  key_index=\"feature\", \n",
    "                                                  room=room)\n",
    "\n",
    "        openface_found = nr_in_2_also_found_in_1\n",
    "\n",
    "        df_openface[df_openface['feature']==au+openface_det_method+\"_mask\"]\n",
    "        df_FACS[df_FACS['feature']==au+\"_FACS\"]\n",
    "        #print(au, round(openface_found, 2), total1, total2)\n",
    "    \n",
    "        stats[au][\"overlap\"].append(openface_found)\n",
    "        stats[au][\"total_facs\"].append(total2)\n",
    "        stats[au][\"total_openface\"].append(total1)\n",
    "    #df_openface[\"start\"]\n",
    "    \n"
   ]
  },
  {
   "cell_type": "code",
   "execution_count": 195,
   "metadata": {},
   "outputs": [
    {
     "name": "stdout",
     "output_type": "stream",
     "text": [
      "0.36161414824542815 0.25832319534409526\n"
     ]
    },
    {
     "data": {
      "text/html": [
       "<div>\n",
       "<style scoped>\n",
       "    .dataframe tbody tr th:only-of-type {\n",
       "        vertical-align: middle;\n",
       "    }\n",
       "\n",
       "    .dataframe tbody tr th {\n",
       "        vertical-align: top;\n",
       "    }\n",
       "\n",
       "    .dataframe thead th {\n",
       "        text-align: right;\n",
       "    }\n",
       "</style>\n",
       "<table border=\"1\" class=\"dataframe\">\n",
       "  <thead>\n",
       "    <tr style=\"text-align: right;\">\n",
       "      <th></th>\n",
       "      <th>au</th>\n",
       "      <th>nr_facs</th>\n",
       "      <th>nr_facs_std</th>\n",
       "      <th>nr_of</th>\n",
       "      <th>nr_of_std</th>\n",
       "      <th>overlap</th>\n",
       "      <th>overlap_std</th>\n",
       "    </tr>\n",
       "  </thead>\n",
       "  <tbody>\n",
       "    <tr>\n",
       "      <th>8</th>\n",
       "      <td>AU04</td>\n",
       "      <td>8.475</td>\n",
       "      <td>5.349275</td>\n",
       "      <td>27.725</td>\n",
       "      <td>18.895105</td>\n",
       "      <td>0.719526</td>\n",
       "      <td>0.328865</td>\n",
       "    </tr>\n",
       "    <tr>\n",
       "      <th>2</th>\n",
       "      <td>AU06</td>\n",
       "      <td>5.100</td>\n",
       "      <td>4.378268</td>\n",
       "      <td>3.900</td>\n",
       "      <td>5.452828</td>\n",
       "      <td>0.340540</td>\n",
       "      <td>0.357361</td>\n",
       "    </tr>\n",
       "    <tr>\n",
       "      <th>7</th>\n",
       "      <td>AU07</td>\n",
       "      <td>6.675</td>\n",
       "      <td>4.958223</td>\n",
       "      <td>30.400</td>\n",
       "      <td>21.937908</td>\n",
       "      <td>0.698889</td>\n",
       "      <td>0.339539</td>\n",
       "    </tr>\n",
       "    <tr>\n",
       "      <th>3</th>\n",
       "      <td>AU09</td>\n",
       "      <td>2.075</td>\n",
       "      <td>2.973278</td>\n",
       "      <td>13.675</td>\n",
       "      <td>7.994830</td>\n",
       "      <td>0.560069</td>\n",
       "      <td>0.473962</td>\n",
       "    </tr>\n",
       "    <tr>\n",
       "      <th>10</th>\n",
       "      <td>AU10</td>\n",
       "      <td>4.025</td>\n",
       "      <td>3.392960</td>\n",
       "      <td>6.150</td>\n",
       "      <td>7.177422</td>\n",
       "      <td>0.411029</td>\n",
       "      <td>0.418178</td>\n",
       "    </tr>\n",
       "    <tr>\n",
       "      <th>4</th>\n",
       "      <td>AU12</td>\n",
       "      <td>1.225</td>\n",
       "      <td>2.142219</td>\n",
       "      <td>4.075</td>\n",
       "      <td>7.258549</td>\n",
       "      <td>0.130893</td>\n",
       "      <td>0.288869</td>\n",
       "    </tr>\n",
       "    <tr>\n",
       "      <th>1</th>\n",
       "      <td>AU14</td>\n",
       "      <td>4.200</td>\n",
       "      <td>4.438757</td>\n",
       "      <td>17.450</td>\n",
       "      <td>15.526569</td>\n",
       "      <td>0.494100</td>\n",
       "      <td>0.433037</td>\n",
       "    </tr>\n",
       "    <tr>\n",
       "      <th>5</th>\n",
       "      <td>AU15</td>\n",
       "      <td>0.625</td>\n",
       "      <td>1.102154</td>\n",
       "      <td>21.175</td>\n",
       "      <td>11.540092</td>\n",
       "      <td>0.160000</td>\n",
       "      <td>0.362894</td>\n",
       "    </tr>\n",
       "    <tr>\n",
       "      <th>9</th>\n",
       "      <td>AU17</td>\n",
       "      <td>2.275</td>\n",
       "      <td>2.183710</td>\n",
       "      <td>36.700</td>\n",
       "      <td>14.202203</td>\n",
       "      <td>0.462708</td>\n",
       "      <td>0.426933</td>\n",
       "    </tr>\n",
       "    <tr>\n",
       "      <th>0</th>\n",
       "      <td>AU18</td>\n",
       "      <td>1.825</td>\n",
       "      <td>1.946562</td>\n",
       "      <td>0.000</td>\n",
       "      <td>0.000000</td>\n",
       "      <td>0.000000</td>\n",
       "      <td>0.000000</td>\n",
       "    </tr>\n",
       "    <tr>\n",
       "      <th>6</th>\n",
       "      <td>AU43</td>\n",
       "      <td>0.925</td>\n",
       "      <td>1.525636</td>\n",
       "      <td>0.000</td>\n",
       "      <td>0.000000</td>\n",
       "      <td>0.000000</td>\n",
       "      <td>0.000000</td>\n",
       "    </tr>\n",
       "  </tbody>\n",
       "</table>\n",
       "</div>"
      ],
      "text/plain": [
       "      au  nr_facs  nr_facs_std   nr_of  nr_of_std   overlap  overlap_std\n",
       "8   AU04    8.475     5.349275  27.725  18.895105  0.719526     0.328865\n",
       "2   AU06    5.100     4.378268   3.900   5.452828  0.340540     0.357361\n",
       "7   AU07    6.675     4.958223  30.400  21.937908  0.698889     0.339539\n",
       "3   AU09    2.075     2.973278  13.675   7.994830  0.560069     0.473962\n",
       "10  AU10    4.025     3.392960   6.150   7.177422  0.411029     0.418178\n",
       "4   AU12    1.225     2.142219   4.075   7.258549  0.130893     0.288869\n",
       "1   AU14    4.200     4.438757  17.450  15.526569  0.494100     0.433037\n",
       "5   AU15    0.625     1.102154  21.175  11.540092  0.160000     0.362894\n",
       "9   AU17    2.275     2.183710  36.700  14.202203  0.462708     0.426933\n",
       "0   AU18    1.825     1.946562   0.000   0.000000  0.000000     0.000000\n",
       "6   AU43    0.925     1.525636   0.000   0.000000  0.000000     0.000000"
      ]
     },
     "execution_count": 195,
     "metadata": {},
     "output_type": "execute_result"
    }
   ],
   "source": [
    "performance = {\"au\":[], \"overlap\":[], \"nr_of\":[], \"nr_facs\":[], \"overlap_std\":[], \"nr_of_std\":[], \"nr_facs_std\":[]}\n",
    "for au in AUs:\n",
    "    df = pd.DataFrame(stats[au])\n",
    "    performance[\"overlap\"].append( df[\"overlap\"].mean() )#sum(stats[au][\"overlap\"])/len(stats[au][\"overlap\"]) )\n",
    "    performance[\"overlap_std\"].append( df[\"overlap\"].std() )\n",
    "    performance[\"au\"].append(au)\n",
    "    performance[\"nr_of\"].append( df[\"total_openface\"].mean() )#sum(stats[au][\"total_openface\"])/len(stats[au][\"total_openface\"]) )\n",
    "    performance[\"nr_of_std\"].append( df[\"total_openface\"].std() )\n",
    "    performance[\"nr_facs\"].append( df[\"total_facs\"].mean() )#sum(stats[au][\"total_facs\"])/len(stats[au][\"total_facs\"]) )\n",
    "    performance[\"nr_facs_std\"].append( df[\"total_facs\"].std() )\n",
    "    \n",
    "\n",
    "performance = pd.DataFrame(performance)\n",
    "print(performance[\"overlap\"].mean(), performance[\"overlap\"].std())\n",
    "performance= performance.sort_values(by=[\"au\"])\n",
    "performance"
   ]
  },
  {
   "cell_type": "code",
   "execution_count": 196,
   "metadata": {},
   "outputs": [
    {
     "data": {
      "text/plain": [
       "[Text(0,0,'AU04'),\n",
       " Text(0,0,'AU06'),\n",
       " Text(0,0,'AU07'),\n",
       " Text(0,0,'AU09'),\n",
       " Text(0,0,'AU10'),\n",
       " Text(0,0,'AU12'),\n",
       " Text(0,0,'AU14'),\n",
       " Text(0,0,'AU15'),\n",
       " Text(0,0,'AU17'),\n",
       " Text(0,0,'AU18'),\n",
       " Text(0,0,'AU43')]"
      ]
     },
     "execution_count": 196,
     "metadata": {},
     "output_type": "execute_result"
    },
    {
     "data": {
      "image/png": "[encoded data removed]",
      "text/plain": [
       "<matplotlib.figure.Figure at 0x2ae0025e630>"
      ]
     },
     "metadata": {},
     "output_type": "display_data"
    }
   ],
   "source": [
    "fig = plt.figure(figsize=(10,5)) \n",
    "ax = fig.add_subplot(1,1,1)\n",
    "ax.errorbar(x = [i for i in performance[\"au\"]], y=performance[\"overlap\"], yerr = performance[\"overlap_std\"],fmt='o')\n",
    "ax.set_xticklabels(labels=performance[\"au\"])"
   ]
  },
  {
   "cell_type": "markdown",
   "metadata": {},
   "source": [
    "# Time to inspect the timeseries manually"
   ]
  },
  {
   "cell_type": "code",
   "execution_count": 131,
   "metadata": {},
   "outputs": [],
   "source": [
    "nr = \"003\"\n",
    "au = \"AU07\"\n",
    "\n",
    "df_openface = openface_detections_dict[nr]\n",
    "df_FACS = FACS_detections[nr]\n",
    "openface_time_series = openface_time_series_dict[nr]\n",
    "settings = detections_settings_dict[nr]\n"
   ]
  },
  {
   "cell_type": "code",
   "execution_count": 133,
   "metadata": {},
   "outputs": [
    {
     "name": "stdout",
     "output_type": "stream",
     "text": [
      "111\n"
     ]
    },
    {
     "data": {
      "image/png": "[encoded data removed]",
      "text/plain": [
       "<matplotlib.figure.Figure at 0x2ae0127ecc0>"
      ]
     },
     "metadata": {},
     "output_type": "display_data"
    }
   ],
   "source": [
    "\n",
    "\n",
    "plt.figure(figsize=(20,10))\n",
    "\n",
    "plt.plot(openface_time_series[\"timestamp\"], openface_time_series[au+\"_r\"], \"grey\")\n",
    "plt.plot(openface_time_series[\"timestamp\"], openface_time_series[au+\"_r_mask\"])\n",
    "\n",
    "\n",
    "plt.axhline(float(settings[settings[\"name\"]==au+\"_r_mask\"][\"intensity_threshold\"]), linestyle=\"--\")\n",
    "\n",
    "slice_det = df_openface[df_openface[\"feature\"] == au+\"_r_mask\"]\n",
    "\n",
    "print(len(slice_det))\n",
    "\n",
    "for i, row in slice_det.iterrows():\n",
    "    start, end = row[\"start\"], row[\"end\"]\n",
    "    plt.plot([start, end], [2,2], color=\"red\", linewidth=5)\n",
    "\n",
    "for i, row in df_FACS[df_FACS[\"feature\"]==au+\"_FACS\"].iterrows():\n",
    "    start, end = row[\"start\"], row[\"end\"]\n",
    "    plt.plot([start, end], [2.2,2.2], color=\"green\", linewidth=5)\n",
    "    \n",
    "for i, row in df_FACS[df_FACS[\"feature\"]==\"pain_start_FACS\"].iterrows():\n",
    "    start, end = row[\"start\"], row[\"end\"]\n",
    "    plt.plot([start, end], [2.4,2.4], color=\"purple\", linewidth=5)\n",
    "\n",
    "plt.title(au)\n",
    "plt.ylabel(au)\n",
    "#plt.xlim(400,500)\n",
    "plt.xlabel(\"time (s)\")\n",
    "plt.show()"
   ]
  },
  {
   "cell_type": "code",
   "execution_count": null,
   "metadata": {},
   "outputs": [],
   "source": []
  }
 ],
 "metadata": {
  "kernelspec": {
   "display_name": "Python 3",
   "language": "python",
   "name": "python3"
  },
  "language_info": {
   "codemirror_mode": {
    "name": "ipython",
    "version": 3
   },
   "file_extension": ".py",
   "mimetype": "text/x-python",
   "name": "python",
   "nbconvert_exporter": "python",
   "pygments_lexer": "ipython3",
   "version": "3.6.3"
  }
 },
 "nbformat": 4,
 "nbformat_minor": 2
}
