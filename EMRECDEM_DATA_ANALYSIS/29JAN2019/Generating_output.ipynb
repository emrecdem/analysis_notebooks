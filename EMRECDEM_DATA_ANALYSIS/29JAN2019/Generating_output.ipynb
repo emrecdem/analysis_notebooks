{
 "cells": [
  {
   "cell_type": "markdown",
   "metadata": {},
   "source": [
    "# Analysis of P21 & P18 from pilot data\n",
    "B.L. de Vries - 3/12/2018"
   ]
  },
  {
   "cell_type": "markdown",
   "metadata": {},
   "source": [
    "The goal of this notebook is to discuss the results and analysis I have done. This notebook will not run locally on you system"
   ]
  },
  {
   "cell_type": "code",
   "execution_count": 1,
   "metadata": {},
   "outputs": [],
   "source": [
    "%load_ext autoreload\n",
    "%autoreload 2"
   ]
  },
  {
   "cell_type": "markdown",
   "metadata": {},
   "source": [
    "Loading packages"
   ]
  },
  {
   "cell_type": "code",
   "execution_count": 2,
   "metadata": {},
   "outputs": [],
   "source": [
    "import os\n",
    "import sys\n",
    "import glob\n",
    "import time\n",
    "import pandas as pd"
   ]
  },
  {
   "cell_type": "code",
   "execution_count": 7,
   "metadata": {},
   "outputs": [
    {
     "name": "stdout",
     "output_type": "stream",
     "text": [
      "0.0.0.dev1 0.0.0.dev6 0.0.0.dev2\n"
     ]
    }
   ],
   "source": [
    "import explibrosa\n",
    "import exploface\n",
    "import elanwriter\n",
    "print(explibrosa.__version__, \n",
    "exploface.__version__, \n",
    "elanwriter.__version__)"
   ]
  },
  {
   "cell_type": "markdown",
   "metadata": {},
   "source": [
    "## Directories used\n",
    "First I will make variables holding the different directories with input and output files and the executables of openface"
   ]
  },
  {
   "cell_type": "markdown",
   "metadata": {},
   "source": [
    "I use openface via a python wrapper script ```analyse_video``` that I made. This is just a very simple wrapper. I also define the openface executable here."
   ]
  },
  {
   "cell_type": "code",
   "execution_count": 8,
   "metadata": {},
   "outputs": [],
   "source": [
    "openface_runner_path = os.path.join(\"C:\\\\\",\"Users\",\"bldev\",\"Dropbox\",\"0_DATA_BEN\",\"WORK_ESCIENCE\",\n",
    "                                    \"PROJECTS\",\"DEMENTIA\",\"TOOLS\",\"openface_runner\")\n",
    "sys.path.append(openface_runner_path)\n",
    "from process_video import analyse_video\n",
    "\n",
    "openface_version_dir = \"OpenFace_2.0.5_win_x64\"\n",
    "openface_exe = os.path.join(\"C:\\\\\",\"Users\",\"bldev\",\"Dropbox\",\"0_DATA_BEN\",\"WORK_ESCIENCE\",\n",
    "                            \"PROJECTS\",\"DEMENTIA\",\"TOOLS\",\"openface_runner\",\n",
    "                            openface_version_dir,\"FeatureExtraction.exe\")"
   ]
  },
  {
   "cell_type": "markdown",
   "metadata": {},
   "source": [
    "The input directories:"
   ]
  },
  {
   "cell_type": "code",
   "execution_count": 9,
   "metadata": {},
   "outputs": [],
   "source": [
    "encrypted_dir = os.path.join(\"E:\\\\\",\"PROJECT_DATA\",\"DEMENTIA_2017\")\n",
    "video_dir = os.path.join(encrypted_dir,\"Database\")\n",
    "audio_dir = os.path.join(encrypted_dir,\"Database\")#os.path.join(encrypted_dir,\"Database\",\"P21\",\"S2\",\"Audio\")"
   ]
  },
  {
   "cell_type": "markdown",
   "metadata": {},
   "source": [
    "The output directories:"
   ]
  },
  {
   "cell_type": "code",
   "execution_count": 17,
   "metadata": {},
   "outputs": [],
   "source": [
    "output_privacy_dir = os.path.join(encrypted_dir, \"Database_ANALYSIS\", \"P21_18_29JAN2019\")\n",
    "\n",
    "output_openface_dir = os.path.join(output_privacy_dir, \"openface_output\")\n",
    "output_audio_dir = os.path.join(output_privacy_dir, \"audio_output\")\n",
    "output_merged_dir = os.path.join(output_privacy_dir, \"merged_output\")\n"
   ]
  },
  {
   "cell_type": "markdown",
   "metadata": {},
   "source": [
    "Check if input and output directories exist:"
   ]
  },
  {
   "cell_type": "code",
   "execution_count": 18,
   "metadata": {},
   "outputs": [
    {
     "name": "stdout",
     "output_type": "stream",
     "text": [
      "openface exe found:  True\n",
      "video input dir:  True\n",
      "merged output dir:  True\n",
      "video output dir:  True\n",
      "audio output dir:  True\n"
     ]
    }
   ],
   "source": [
    "print(\"openface exe found: \",os.path.isfile(openface_exe))\n",
    "print(\"video input dir: \", os.path.isdir(video_dir))\n",
    "#print(\"audio input dir: \", os.path.isdir(audio_dir))\n",
    "print(\"merged output dir: \", os.path.isdir(output_merged_dir))\n",
    "print(\"video output dir: \", os.path.isdir(output_openface_dir))\n",
    "print(\"audio output dir: \", os.path.isdir(output_audio_dir))\n",
    "#output_openface_privacy_dir"
   ]
  },
  {
   "cell_type": "markdown",
   "metadata": {},
   "source": [
    "Here I collect all the video and audio files we need to process"
   ]
  },
  {
   "cell_type": "code",
   "execution_count": 12,
   "metadata": {},
   "outputs": [],
   "source": [
    "audio_file_paths = glob.glob(os.path.join(video_dir, \"**/*.wav\"))\n",
    "audio_file_names = list(map(os.path.basename, audio_file_paths))"
   ]
  },
  {
   "cell_type": "code",
   "execution_count": 13,
   "metadata": {},
   "outputs": [],
   "source": [
    "video_file_paths = glob.glob(os.path.join(video_dir, \"**/*.mp4\"))\n",
    "video_file_names = list(map(os.path.basename, video_file_paths))"
   ]
  },
  {
   "cell_type": "code",
   "execution_count": 14,
   "metadata": {},
   "outputs": [
    {
     "name": "stdout",
     "output_type": "stream",
     "text": [
      "['E:\\\\PROJECT_DATA\\\\DEMENTIA_2017\\\\Database\\\\P18\\\\P18_S2_Demograph_Cfront.mp4', 'E:\\\\PROJECT_DATA\\\\DEMENTIA_2017\\\\Database\\\\P18\\\\P18_S2_IAPS_HAPPY_Cfront.mp4', 'E:\\\\PROJECT_DATA\\\\DEMENTIA_2017\\\\Database\\\\P18\\\\P18_S2_IAPS_SAD_Cfront.mp4', 'E:\\\\PROJECT_DATA\\\\DEMENTIA_2017\\\\Database\\\\P18\\\\P18_S2_LSB_HM1_Cfront.mp4', 'E:\\\\PROJECT_DATA\\\\DEMENTIA_2017\\\\Database\\\\P18\\\\P18_S2_LSB_SM1_Cfront.mp4', 'E:\\\\PROJECT_DATA\\\\DEMENTIA_2017\\\\Database\\\\P18\\\\P18_S2_LSB_SM2_Cfront.mp4', 'E:\\\\PROJECT_DATA\\\\DEMENTIA_2017\\\\Database\\\\P18\\\\P18_S2_Neutral_2_Cfront.mp4', 'E:\\\\PROJECT_DATA\\\\DEMENTIA_2017\\\\Database\\\\P21\\\\P21_S2_IAPS_HAPPY_C1.mp4', 'E:\\\\PROJECT_DATA\\\\DEMENTIA_2017\\\\Database\\\\P21\\\\P21_S2_IAPS_SAD_C1.mp4', 'E:\\\\PROJECT_DATA\\\\DEMENTIA_2017\\\\Database\\\\P21\\\\P21_S2_LSB_HM1_C1.mp4', 'E:\\\\PROJECT_DATA\\\\DEMENTIA_2017\\\\Database\\\\P21\\\\P21_S2_LSB_HM2_C1.mp4', 'E:\\\\PROJECT_DATA\\\\DEMENTIA_2017\\\\Database\\\\P21\\\\P21_S2_LSB_HM3_C1.mp4', 'E:\\\\PROJECT_DATA\\\\DEMENTIA_2017\\\\Database\\\\P21\\\\P21_S2_LSB_SM1_C1.mp4', 'E:\\\\PROJECT_DATA\\\\DEMENTIA_2017\\\\Database\\\\P21\\\\P21_S2_LSB_SM2_C1.mp4', 'E:\\\\PROJECT_DATA\\\\DEMENTIA_2017\\\\Database\\\\P21\\\\P21_S2_LSB_SM3_C1.mp4']\n"
     ]
    },
    {
     "data": {
      "text/plain": [
       "[('P18_S2_Demograph_Cfront.mp4', 'P18_S2_Demograph.wav'),\n",
       " ('P18_S2_IAPS_HAPPY_Cfront.mp4', 'P18_S2_IAPS_HAPPY.wav'),\n",
       " ('P18_S2_IAPS_SAD_Cfront.mp4', 'P18_S2_IAPS_SAD.wav'),\n",
       " ('P18_S2_LSB_HM1_Cfront.mp4', 'P18_S2_LSB_HM1.wav'),\n",
       " ('P18_S2_LSB_SM1_Cfront.mp4', 'P18_S2_LSB_SM1.wav'),\n",
       " ('P18_S2_LSB_SM2_Cfront.mp4', 'P18_S2_LSB_SM2.wav'),\n",
       " ('P18_S2_Neutral_2_Cfront.mp4', 'P18_S2_Neutral_2.wav'),\n",
       " ('P21_S2_IAPS_HAPPY_C1.mp4', 'P21_S2_IAPS_HAPPY.wav'),\n",
       " ('P21_S2_IAPS_SAD_C1.mp4', 'P21_S2_IAPS_SAD.wav'),\n",
       " ('P21_S2_LSB_HM1_C1.mp4', 'P21_S2_LSB_HM1.wav'),\n",
       " ('P21_S2_LSB_HM2_C1.mp4', 'P21_S2_LSB_HM2.wav'),\n",
       " ('P21_S2_LSB_HM3_C1.mp4', 'P21_S2_LSB_HM3.wav'),\n",
       " ('P21_S2_LSB_SM1_C1.mp4', 'P21_S2_LSB_SM1.wav'),\n",
       " ('P21_S2_LSB_SM2_C1.mp4', 'P21_S2_LSB_SM2.wav'),\n",
       " ('P21_S2_LSB_SM3_C1.mp4', 'P21_S2_LSB_SM3.wav')]"
      ]
     },
     "execution_count": 14,
     "metadata": {},
     "output_type": "execute_result"
    }
   ],
   "source": [
    "print(video_file_paths)\n",
    "file_names = list(zip(video_file_names, audio_file_names))\n",
    "file_names"
   ]
  },
  {
   "cell_type": "markdown",
   "metadata": {},
   "source": [
    "## In this loop I run openface and librosa and store their time series."
   ]
  },
  {
   "cell_type": "code",
   "execution_count": 15,
   "metadata": {},
   "outputs": [
    {
     "name": "stdout",
     "output_type": "stream",
     "text": [
      "Running videos from directory:  E:\\PROJECT_DATA\\DEMENTIA_2017\\Database\n",
      "- 1/15: P18_S2_Demograph_Cfront.mp4\n",
      "   * Analyzing audio file:  E:\\PROJECT_DATA\\DEMENTIA_2017\\Database\\P18\\P18_S2_Demograph.wav\n",
      "      Output exists: E:\\PROJECT_DATA\\DEME...\\P18_S2_Demograph_features.csv\n",
      "   * Analyzing video:  E:\\PROJECT_DATA\\DEMENTIA_2017\\Database\\P18\\P18_S2_Demograph_Cfront.mp4\n",
      "      Running, output generated in:  E:\\PROJECT_DATA\\DEMENTIA_2017\\Database_ANALYSIS\\P21_29JAN2019\\openface_output\n",
      "       Execution time: 48.1 min\n",
      "- 2/15: P18_S2_IAPS_HAPPY_Cfront.mp4\n",
      "   * Analyzing audio file:  E:\\PROJECT_DATA\\DEMENTIA_2017\\Database\\P18\\P18_S2_IAPS_HAPPY.wav\n",
      "      Output exists: E:\\PROJECT_DATA\\DEME...P18_S2_IAPS_HAPPY_features.csv\n",
      "   * Analyzing video:  E:\\PROJECT_DATA\\DEMENTIA_2017\\Database\\P18\\P18_S2_IAPS_HAPPY_Cfront.mp4\n",
      "      Output exists: E:\\PROJECT_DATA\\DEME...t\\P18_S2_IAPS_HAPPY_Cfront.csv\n",
      "- 3/15: P18_S2_IAPS_SAD_Cfront.mp4\n",
      "   * Analyzing audio file:  E:\\PROJECT_DATA\\DEMENTIA_2017\\Database\\P18\\P18_S2_IAPS_SAD.wav\n",
      "      Output exists: E:\\PROJECT_DATA\\DEME...t\\P18_S2_IAPS_SAD_features.csv\n",
      "   * Analyzing video:  E:\\PROJECT_DATA\\DEMENTIA_2017\\Database\\P18\\P18_S2_IAPS_SAD_Cfront.mp4\n",
      "      Output exists: E:\\PROJECT_DATA\\DEME...put\\P18_S2_IAPS_SAD_Cfront.csv\n",
      "- 4/15: P18_S2_LSB_HM1_Cfront.mp4\n",
      "   * Analyzing audio file:  E:\\PROJECT_DATA\\DEMENTIA_2017\\Database\\P18\\P18_S2_LSB_HM1.wav\n",
      "      Output exists: E:\\PROJECT_DATA\\DEME...ut\\P18_S2_LSB_HM1_features.csv\n",
      "   * Analyzing video:  E:\\PROJECT_DATA\\DEMENTIA_2017\\Database\\P18\\P18_S2_LSB_HM1_Cfront.mp4\n",
      "      Output exists: E:\\PROJECT_DATA\\DEME...tput\\P18_S2_LSB_HM1_Cfront.csv\n",
      "- 5/15: P18_S2_LSB_SM1_Cfront.mp4\n",
      "   * Analyzing audio file:  E:\\PROJECT_DATA\\DEMENTIA_2017\\Database\\P18\\P18_S2_LSB_SM1.wav\n",
      "      Output exists: E:\\PROJECT_DATA\\DEME...ut\\P18_S2_LSB_SM1_features.csv\n",
      "   * Analyzing video:  E:\\PROJECT_DATA\\DEMENTIA_2017\\Database\\P18\\P18_S2_LSB_SM1_Cfront.mp4\n",
      "      Output exists: E:\\PROJECT_DATA\\DEME...tput\\P18_S2_LSB_SM1_Cfront.csv\n",
      "- 6/15: P18_S2_LSB_SM2_Cfront.mp4\n",
      "   * Analyzing audio file:  E:\\PROJECT_DATA\\DEMENTIA_2017\\Database\\P18\\P18_S2_LSB_SM2.wav\n",
      "      Output exists: E:\\PROJECT_DATA\\DEME...ut\\P18_S2_LSB_SM2_features.csv\n",
      "   * Analyzing video:  E:\\PROJECT_DATA\\DEMENTIA_2017\\Database\\P18\\P18_S2_LSB_SM2_Cfront.mp4\n",
      "      Output exists: E:\\PROJECT_DATA\\DEME...tput\\P18_S2_LSB_SM2_Cfront.csv\n",
      "- 7/15: P18_S2_Neutral_2_Cfront.mp4\n",
      "   * Analyzing audio file:  E:\\PROJECT_DATA\\DEMENTIA_2017\\Database\\P18\\P18_S2_Neutral_2.wav\n",
      "      Output exists: E:\\PROJECT_DATA\\DEME...\\P18_S2_Neutral_2_features.csv\n",
      "   * Analyzing video:  E:\\PROJECT_DATA\\DEMENTIA_2017\\Database\\P18\\P18_S2_Neutral_2_Cfront.mp4\n",
      "      Output exists: E:\\PROJECT_DATA\\DEME...ut\\P18_S2_Neutral_2_Cfront.csv\n",
      "- 8/15: P21_S2_IAPS_HAPPY_C1.mp4\n",
      "   * Analyzing audio file:  E:\\PROJECT_DATA\\DEMENTIA_2017\\Database\\P21\\P21_S2_IAPS_HAPPY.wav\n",
      "      Output exists: E:\\PROJECT_DATA\\DEME...P21_S2_IAPS_HAPPY_features.csv\n",
      "   * Analyzing video:  E:\\PROJECT_DATA\\DEMENTIA_2017\\Database\\P21\\P21_S2_IAPS_HAPPY_C1.mp4\n",
      "      Output exists: E:\\PROJECT_DATA\\DEME...utput\\P21_S2_IAPS_HAPPY_C1.csv\n",
      "- 9/15: P21_S2_IAPS_SAD_C1.mp4\n",
      "   * Analyzing audio file:  E:\\PROJECT_DATA\\DEMENTIA_2017\\Database\\P21\\P21_S2_IAPS_SAD.wav\n",
      "      Output exists: E:\\PROJECT_DATA\\DEME...t\\P21_S2_IAPS_SAD_features.csv\n",
      "   * Analyzing video:  E:\\PROJECT_DATA\\DEMENTIA_2017\\Database\\P21\\P21_S2_IAPS_SAD_C1.mp4\n",
      "      Output exists: E:\\PROJECT_DATA\\DEME..._output\\P21_S2_IAPS_SAD_C1.csv\n",
      "- 10/15: P21_S2_LSB_HM1_C1.mp4\n",
      "   * Analyzing audio file:  E:\\PROJECT_DATA\\DEMENTIA_2017\\Database\\P21\\P21_S2_LSB_HM1.wav\n",
      "      Output exists: E:\\PROJECT_DATA\\DEME...ut\\P21_S2_LSB_HM1_features.csv\n",
      "   * Analyzing video:  E:\\PROJECT_DATA\\DEMENTIA_2017\\Database\\P21\\P21_S2_LSB_HM1_C1.mp4\n",
      "      Output exists: E:\\PROJECT_DATA\\DEME...e_output\\P21_S2_LSB_HM1_C1.csv\n",
      "- 11/15: P21_S2_LSB_HM2_C1.mp4\n",
      "   * Analyzing audio file:  E:\\PROJECT_DATA\\DEMENTIA_2017\\Database\\P21\\P21_S2_LSB_HM2.wav\n",
      "      Output exists: E:\\PROJECT_DATA\\DEME...ut\\P21_S2_LSB_HM2_features.csv\n",
      "   * Analyzing video:  E:\\PROJECT_DATA\\DEMENTIA_2017\\Database\\P21\\P21_S2_LSB_HM2_C1.mp4\n",
      "      Output exists: E:\\PROJECT_DATA\\DEME...e_output\\P21_S2_LSB_HM2_C1.csv\n",
      "- 12/15: P21_S2_LSB_HM3_C1.mp4\n",
      "   * Analyzing audio file:  E:\\PROJECT_DATA\\DEMENTIA_2017\\Database\\P21\\P21_S2_LSB_HM3.wav\n",
      "      Output exists: E:\\PROJECT_DATA\\DEME...ut\\P21_S2_LSB_HM3_features.csv\n",
      "   * Analyzing video:  E:\\PROJECT_DATA\\DEMENTIA_2017\\Database\\P21\\P21_S2_LSB_HM3_C1.mp4\n",
      "      Output exists: E:\\PROJECT_DATA\\DEME...e_output\\P21_S2_LSB_HM3_C1.csv\n",
      "- 13/15: P21_S2_LSB_SM1_C1.mp4\n",
      "   * Analyzing audio file:  E:\\PROJECT_DATA\\DEMENTIA_2017\\Database\\P21\\P21_S2_LSB_SM1.wav\n",
      "      Output exists: E:\\PROJECT_DATA\\DEME...ut\\P21_S2_LSB_SM1_features.csv\n",
      "   * Analyzing video:  E:\\PROJECT_DATA\\DEMENTIA_2017\\Database\\P21\\P21_S2_LSB_SM1_C1.mp4\n",
      "      Output exists: E:\\PROJECT_DATA\\DEME...e_output\\P21_S2_LSB_SM1_C1.csv\n",
      "- 14/15: P21_S2_LSB_SM2_C1.mp4\n",
      "   * Analyzing audio file:  E:\\PROJECT_DATA\\DEMENTIA_2017\\Database\\P21\\P21_S2_LSB_SM2.wav\n",
      "      Output exists: E:\\PROJECT_DATA\\DEME...ut\\P21_S2_LSB_SM2_features.csv\n",
      "   * Analyzing video:  E:\\PROJECT_DATA\\DEMENTIA_2017\\Database\\P21\\P21_S2_LSB_SM2_C1.mp4\n",
      "      Output exists: E:\\PROJECT_DATA\\DEME...e_output\\P21_S2_LSB_SM2_C1.csv\n",
      "- 15/15: P21_S2_LSB_SM3_C1.mp4\n",
      "   * Analyzing audio file:  E:\\PROJECT_DATA\\DEMENTIA_2017\\Database\\P21\\P21_S2_LSB_SM3.wav\n",
      "      Output exists: E:\\PROJECT_DATA\\DEME...ut\\P21_S2_LSB_SM3_features.csv\n",
      "   * Analyzing video:  E:\\PROJECT_DATA\\DEMENTIA_2017\\Database\\P21\\P21_S2_LSB_SM3_C1.mp4\n",
      "      Output exists: E:\\PROJECT_DATA\\DEME...e_output\\P21_S2_LSB_SM3_C1.csv\n"
     ]
    }
   ],
   "source": [
    "print(\"Running videos from directory: \", video_dir)\n",
    "for i, (v, a) in enumerate(file_names):\n",
    "    print(\"- \"+str(i+1)+\"/\"+str(len(file_names))+\": \"+v)\n",
    "    \n",
    "    audio_output_filename_no_ext = a.split(\".\")[0]\n",
    "    audio_output_filename = audio_output_filename_no_ext+\"_features.csv\"\n",
    "    \n",
    "    # RUN AUDIO ANALYSIS\n",
    "    print(\"   * Analyzing audio file: \", audio_file_paths[i])#os.path.join(audio_dir, a))\n",
    "    if not os.path.isfile(os.path.join(output_audio_dir, audio_output_filename)):\n",
    "        print(\"       Running, output generated in: \", output_audio_dir)\n",
    "        start_time = time.time()\n",
    "        time_series = explibrosa.get_feature_time_series(audio_file_paths[i],#os.path.join(audio_dir, a), \n",
    "                                                        output_audio_dir,\n",
    "                                                        verbose=False)\n",
    "    \n",
    "        # META DATA LIBROSA\n",
    "        with open(os.path.join(output_audio_dir, audio_output_filename_no_ext+\".log\"), \"w\") as text_file:\n",
    "            print(\"Datetime: {}\".format(time.strftime(\"%c\")), file=text_file)\n",
    "            for key, value in explibrosa.get_versions().items():\n",
    "                print(\"Version {}: {}\".format(key, value), file=text_file)\n",
    "        print(\"       Execution time: %s min\" % round((time.time() - start_time)/60, 2))\n",
    "    else:\n",
    "        print(\"      Output exists: \"+os.path.join(output_audio_dir, audio_output_filename)[0:20]+\\\n",
    "              \"...\"+os.path.join(output_audio_dir, audio_output_filename)[-30:])\n",
    "        \n",
    "    # RUN OPENFACE\n",
    "    openface_output_filename_no_ext = v.split(\".\")[0]\n",
    "    openface_output_filename = openface_output_filename_no_ext+\".csv\"\n",
    "    output_avi_openface = os.path.join(output_openface_dir, openface_output_filename_no_ext+\".avi\")\n",
    "    print(\"   * Analyzing video: \", video_file_paths[i])#os.path.join(video_dir, v))\n",
    "    if not os.path.isfile(os.path.join(output_openface_dir, openface_output_filename)):\n",
    "        print(\"      Running, output generated in: \", output_openface_dir)\n",
    "        start_time = time.time()\n",
    "        analyse_video(verbose=False, \n",
    "                  inputpath = os.path.dirname(video_file_paths[i]),\n",
    "                  filename = v,\n",
    "                  outputpath = output_openface_dir, \n",
    "                  openface_feat_exe = openface_exe, \n",
    "                  execute=True)\n",
    "        \n",
    "        # META DATA OPENFACE AND EXPLOFACE\n",
    "        with open(os.path.join(output_openface_dir, openface_output_filename_no_ext+\".version_log\"), \"w\") as text_file:\n",
    "            print(\"Datetime: {}\".format(time.strftime(\"%c\")), file=text_file)\n",
    "            print(\"Version exploface: {}\".format(exploface.__version__), file=text_file)\n",
    "            print(\"Version openface: {}\".format(openface_version_dir), file=text_file)   \n",
    "        print(\"       Execution time: %s min\" % round((time.time() - start_time)/60, 2))\n",
    "    else:\n",
    "        print(\"      Output exists: \"+os.path.join(output_openface_dir, openface_output_filename)[0:20]+\\\n",
    "              \"...\"+os.path.join(output_openface_dir, openface_output_filename)[-30:])\n",
    "\n"
   ]
  },
  {
   "cell_type": "markdown",
   "metadata": {},
   "source": [
    "## In this section I generate the detections from the time series, both for the video and audio."
   ]
  },
  {
   "cell_type": "code",
   "execution_count": 16,
   "metadata": {},
   "outputs": [
    {
     "name": "stdout",
     "output_type": "stream",
     "text": [
      "- 1/15: P18_S2_Demograph_Cfront.csv, P18_S2_Demograph_features.csv\n",
      "     files found:  True\n",
      "- 2/15: P18_S2_IAPS_HAPPY_Cfront.csv, P18_S2_IAPS_HAPPY_features.csv\n",
      "     files found:  True\n",
      "- 3/15: P18_S2_IAPS_SAD_Cfront.csv, P18_S2_IAPS_SAD_features.csv\n",
      "     files found:  True\n",
      "- 4/15: P18_S2_LSB_HM1_Cfront.csv, P18_S2_LSB_HM1_features.csv\n",
      "     files found:  True\n",
      "- 5/15: P18_S2_LSB_SM1_Cfront.csv, P18_S2_LSB_SM1_features.csv\n",
      "     files found:  True\n",
      "- 6/15: P18_S2_LSB_SM2_Cfront.csv, P18_S2_LSB_SM2_features.csv\n",
      "     files found:  True\n",
      "- 7/15: P18_S2_Neutral_2_Cfront.csv, P18_S2_Neutral_2_features.csv\n",
      "     files found:  True\n",
      "- 8/15: P21_S2_IAPS_HAPPY_C1.csv, P21_S2_IAPS_HAPPY_features.csv\n",
      "     files found:  True\n",
      "- 9/15: P21_S2_IAPS_SAD_C1.csv, P21_S2_IAPS_SAD_features.csv\n",
      "     files found:  True\n",
      "- 10/15: P21_S2_LSB_HM1_C1.csv, P21_S2_LSB_HM1_features.csv\n",
      "     files found:  True\n",
      "- 11/15: P21_S2_LSB_HM2_C1.csv, P21_S2_LSB_HM2_features.csv\n",
      "     files found:  True\n",
      "- 12/15: P21_S2_LSB_HM3_C1.csv, P21_S2_LSB_HM3_features.csv\n",
      "     files found:  True\n",
      "- 13/15: P21_S2_LSB_SM1_C1.csv, P21_S2_LSB_SM1_features.csv\n",
      "     files found:  True\n",
      "- 14/15: P21_S2_LSB_SM2_C1.csv, P21_S2_LSB_SM2_features.csv\n",
      "     files found:  True\n",
      "- 15/15: P21_S2_LSB_SM3_C1.csv, P21_S2_LSB_SM3_features.csv\n",
      "     files found:  True\n"
     ]
    }
   ],
   "source": [
    "\n",
    "for i, (v, a) in enumerate(file_names):\n",
    "    \n",
    "    #####################\n",
    "    # DIRECTORIES\n",
    "    #####################\n",
    "    video_output_filename_no_ext = v.split(\".\")[0]\n",
    "    openface_csv_file = video_output_filename_no_ext+\".csv\"\n",
    "    openface_csv_path = os.path.join(output_openface_dir, openface_csv_file)\n",
    "    openface_avi_path = os.path.join(output_openface_dir, video_output_filename_no_ext+\".avi\")\n",
    "    elan_output_path = os.path.join(output_merged_dir, video_output_filename_no_ext+\".eaf\")\n",
    "    detections_merged_output_path = os.path.join(output_merged_dir, video_output_filename_no_ext+\"_detections_merged.csv\")\n",
    "    detection_settings_output_path = os.path.join(output_merged_dir, video_output_filename_no_ext+\"_detection_settings.csv\")\n",
    "\n",
    "    audio_output_filename_no_ext = a.split(\".\")[0]\n",
    "    audio_csv_file = audio_output_filename_no_ext+\"_features.csv\"\n",
    "    audio_csv_path = os.path.join(output_audio_dir , audio_csv_file)\n",
    "    \n",
    "    print(\"- \"+str(i+1)+\"/\"+str(len(file_names))+\": \"+openface_csv_file+\", \"+audio_csv_file)\n",
    "    print(\"     files found: \", os.path.isfile(openface_csv_path) and os.path.isfile(audio_csv_path))\n",
    "    \n",
    "    \n",
    "    #####################\n",
    "    # OPENFACE\n",
    "    #####################\n",
    "    openface_time_series = exploface.get_feature_time_series(openface_csv_path)\n",
    "    #columns = [c for c in openface_time_series.columns if c in ['confidence', 'success'] or (\"AU\" in c)]#\"_r\" in c and\n",
    "    \n",
    "    columns = {\\\n",
    "        \"name\":[],\\\n",
    "        \"intensity_threshold\":[],\\\n",
    "        \"smooth_time_threshold\":[],\\\n",
    "        \"time_threshold\":[],\\\n",
    "        \"method\":[],\\\n",
    "        \"inverse_threshold\":[],\\\n",
    "    }\n",
    "    \n",
    "    # Default thresholds\n",
    "    method=\"threshold\"\n",
    "    inverse_threshold=False\n",
    "    intensity_threshold=0.8\n",
    "    time_threshold=0.1\n",
    "    smooth_time_threshold = 0.1\n",
    "    uncertainty_threshold=0.9\n",
    "    \n",
    "    # Making column name and threshold settings dataframe\n",
    "    for i, c in enumerate(openface_time_series.columns):\n",
    "        if c == 'confidence':\n",
    "            columns[\"name\"].append( c )\n",
    "            columns[\"intensity_threshold\"].append(intensity_threshold)\n",
    "            columns[\"smooth_time_threshold\"].append(smooth_time_threshold)\n",
    "            columns[\"time_threshold\"].append(time_threshold)\n",
    "            columns[\"method\"].append(method)\n",
    "            columns[\"inverse_threshold\"].append(True)\n",
    "        if \"AU\" in c and \"_r\" in c:\n",
    "            columns[\"name\"].append( c )\n",
    "            columns[\"intensity_threshold\"].append(intensity_threshold)\n",
    "            columns[\"smooth_time_threshold\"].append(smooth_time_threshold)\n",
    "            columns[\"time_threshold\"].append(time_threshold)\n",
    "            columns[\"method\"].append(method)\n",
    "            columns[\"inverse_threshold\"].append(inverse_threshold)\n",
    "    \n",
    "    columns = pd.DataFrame(columns)\n",
    "\n",
    "    # Running exploface\n",
    "    openface_detections = exploface.get_detections(openface_time_series, only_columns=columns)\n",
    "    \n",
    "    #####################\n",
    "    # AUDIO\n",
    "    #####################\n",
    "    audio_time_series = pd.read_csv(audio_csv_path)\n",
    "    audio_detections = explibrosa.get_detections(audio_time_series)\n",
    "       \n",
    "    \n",
    "    #####################\n",
    "    # OUTPUTTING\n",
    "    #####################\n",
    "    # Combining openface and the audio\n",
    "    detections = pd.concat([openface_detections, audio_detections])\n",
    "    \n",
    "    elanwriter.write_elan_file(detections, \n",
    "                               video_path=openface_avi_path, \n",
    "                               output_path=elan_output_path,\n",
    "                               feature_col_name = \"feature\")\n",
    "    \n",
    "    # Writing out the settings\n",
    "    columns.to_csv(detection_settings_output_path)\n",
    "    # And the merged dections\n",
    "    detections.to_csv(detections_merged_output_path)\n",
    "    \n",
    "\n",
    "    \n"
   ]
  },
  {
   "cell_type": "code",
   "execution_count": null,
   "metadata": {},
   "outputs": [],
   "source": []
  }
 ],
 "metadata": {
  "kernelspec": {
   "display_name": "Python 3",
   "language": "python",
   "name": "python3"
  },
  "language_info": {
   "codemirror_mode": {
    "name": "ipython",
    "version": 3
   },
   "file_extension": ".py",
   "mimetype": "text/x-python",
   "name": "python",
   "nbconvert_exporter": "python",
   "pygments_lexer": "ipython3",
   "version": "3.6.3"
  }
 },
 "nbformat": 4,
 "nbformat_minor": 2
}
